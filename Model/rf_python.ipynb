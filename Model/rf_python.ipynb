{
 "cells": [
  {
   "cell_type": "code",
   "execution_count": 1,
   "id": "a56d35d1",
   "metadata": {},
   "outputs": [
    {
     "data": {
      "text/html": [
       "<div>\n",
       "<style scoped>\n",
       "    .dataframe tbody tr th:only-of-type {\n",
       "        vertical-align: middle;\n",
       "    }\n",
       "\n",
       "    .dataframe tbody tr th {\n",
       "        vertical-align: top;\n",
       "    }\n",
       "\n",
       "    .dataframe thead th {\n",
       "        text-align: right;\n",
       "    }\n",
       "</style>\n",
       "<table border=\"1\" class=\"dataframe\">\n",
       "  <thead>\n",
       "    <tr style=\"text-align: right;\">\n",
       "      <th></th>\n",
       "      <th>protocol_type</th>\n",
       "      <th>service</th>\n",
       "      <th>flag</th>\n",
       "      <th>src_bytes</th>\n",
       "      <th>dst_bytes</th>\n",
       "      <th>count</th>\n",
       "      <th>srv_count</th>\n",
       "      <th>srv_rerror_rate</th>\n",
       "      <th>dst_host_count</th>\n",
       "      <th>dst_host_srv_count</th>\n",
       "      <th>class</th>\n",
       "    </tr>\n",
       "  </thead>\n",
       "  <tbody>\n",
       "    <tr>\n",
       "      <th>0</th>\n",
       "      <td>1</td>\n",
       "      <td>42</td>\n",
       "      <td>1</td>\n",
       "      <td>0.0</td>\n",
       "      <td>0.0</td>\n",
       "      <td>229.0</td>\n",
       "      <td>10.0</td>\n",
       "      <td>1.0</td>\n",
       "      <td>255</td>\n",
       "      <td>10</td>\n",
       "      <td>0</td>\n",
       "    </tr>\n",
       "    <tr>\n",
       "      <th>1</th>\n",
       "      <td>1</td>\n",
       "      <td>42</td>\n",
       "      <td>1</td>\n",
       "      <td>0.0</td>\n",
       "      <td>0.0</td>\n",
       "      <td>136.0</td>\n",
       "      <td>1.0</td>\n",
       "      <td>1.0</td>\n",
       "      <td>255</td>\n",
       "      <td>1</td>\n",
       "      <td>0</td>\n",
       "    </tr>\n",
       "    <tr>\n",
       "      <th>2</th>\n",
       "      <td>1</td>\n",
       "      <td>52</td>\n",
       "      <td>4</td>\n",
       "      <td>129.0</td>\n",
       "      <td>174.0</td>\n",
       "      <td>1.0</td>\n",
       "      <td>1.0</td>\n",
       "      <td>0.0</td>\n",
       "      <td>255</td>\n",
       "      <td>255</td>\n",
       "      <td>0</td>\n",
       "    </tr>\n",
       "    <tr>\n",
       "      <th>3</th>\n",
       "      <td>1</td>\n",
       "      <td>16</td>\n",
       "      <td>4</td>\n",
       "      <td>26.0</td>\n",
       "      <td>157.0</td>\n",
       "      <td>1.0</td>\n",
       "      <td>1.0</td>\n",
       "      <td>0.0</td>\n",
       "      <td>52</td>\n",
       "      <td>26</td>\n",
       "      <td>0</td>\n",
       "    </tr>\n",
       "    <tr>\n",
       "      <th>4</th>\n",
       "      <td>1</td>\n",
       "      <td>52</td>\n",
       "      <td>4</td>\n",
       "      <td>0.0</td>\n",
       "      <td>0.0</td>\n",
       "      <td>1.0</td>\n",
       "      <td>1.0</td>\n",
       "      <td>0.0</td>\n",
       "      <td>255</td>\n",
       "      <td>128</td>\n",
       "      <td>0</td>\n",
       "    </tr>\n",
       "    <tr>\n",
       "      <th>...</th>\n",
       "      <td>...</td>\n",
       "      <td>...</td>\n",
       "      <td>...</td>\n",
       "      <td>...</td>\n",
       "      <td>...</td>\n",
       "      <td>...</td>\n",
       "      <td>...</td>\n",
       "      <td>...</td>\n",
       "      <td>...</td>\n",
       "      <td>...</td>\n",
       "      <td>...</td>\n",
       "    </tr>\n",
       "    <tr>\n",
       "      <th>7197</th>\n",
       "      <td>2</td>\n",
       "      <td>38</td>\n",
       "      <td>4</td>\n",
       "      <td>115.0</td>\n",
       "      <td>0.0</td>\n",
       "      <td>22.0</td>\n",
       "      <td>22.0</td>\n",
       "      <td>0.0</td>\n",
       "      <td>253</td>\n",
       "      <td>22</td>\n",
       "      <td>1</td>\n",
       "    </tr>\n",
       "    <tr>\n",
       "      <th>7198</th>\n",
       "      <td>1</td>\n",
       "      <td>15</td>\n",
       "      <td>4</td>\n",
       "      <td>9.0</td>\n",
       "      <td>139.0</td>\n",
       "      <td>1.0</td>\n",
       "      <td>1.0</td>\n",
       "      <td>0.0</td>\n",
       "      <td>96</td>\n",
       "      <td>4</td>\n",
       "      <td>1</td>\n",
       "    </tr>\n",
       "    <tr>\n",
       "      <th>7199</th>\n",
       "      <td>1</td>\n",
       "      <td>20</td>\n",
       "      <td>4</td>\n",
       "      <td>274.0</td>\n",
       "      <td>1623.0</td>\n",
       "      <td>1.0</td>\n",
       "      <td>1.0</td>\n",
       "      <td>0.0</td>\n",
       "      <td>92</td>\n",
       "      <td>255</td>\n",
       "      <td>1</td>\n",
       "    </tr>\n",
       "    <tr>\n",
       "      <th>7200</th>\n",
       "      <td>1</td>\n",
       "      <td>42</td>\n",
       "      <td>1</td>\n",
       "      <td>0.0</td>\n",
       "      <td>0.0</td>\n",
       "      <td>235.0</td>\n",
       "      <td>10.0</td>\n",
       "      <td>1.0</td>\n",
       "      <td>255</td>\n",
       "      <td>10</td>\n",
       "      <td>0</td>\n",
       "    </tr>\n",
       "    <tr>\n",
       "      <th>7201</th>\n",
       "      <td>1</td>\n",
       "      <td>23</td>\n",
       "      <td>1</td>\n",
       "      <td>0.0</td>\n",
       "      <td>0.0</td>\n",
       "      <td>127.0</td>\n",
       "      <td>18.0</td>\n",
       "      <td>1.0</td>\n",
       "      <td>255</td>\n",
       "      <td>18</td>\n",
       "      <td>0</td>\n",
       "    </tr>\n",
       "  </tbody>\n",
       "</table>\n",
       "<p>7202 rows × 11 columns</p>\n",
       "</div>"
      ],
      "text/plain": [
       "      protocol_type  service  flag  src_bytes  dst_bytes  count  srv_count  \\\n",
       "0                 1       42     1        0.0        0.0  229.0       10.0   \n",
       "1                 1       42     1        0.0        0.0  136.0        1.0   \n",
       "2                 1       52     4      129.0      174.0    1.0        1.0   \n",
       "3                 1       16     4       26.0      157.0    1.0        1.0   \n",
       "4                 1       52     4        0.0        0.0    1.0        1.0   \n",
       "...             ...      ...   ...        ...        ...    ...        ...   \n",
       "7197              2       38     4      115.0        0.0   22.0       22.0   \n",
       "7198              1       15     4        9.0      139.0    1.0        1.0   \n",
       "7199              1       20     4      274.0     1623.0    1.0        1.0   \n",
       "7200              1       42     1        0.0        0.0  235.0       10.0   \n",
       "7201              1       23     1        0.0        0.0  127.0       18.0   \n",
       "\n",
       "      srv_rerror_rate  dst_host_count  dst_host_srv_count  class  \n",
       "0                 1.0             255                  10      0  \n",
       "1                 1.0             255                   1      0  \n",
       "2                 0.0             255                 255      0  \n",
       "3                 0.0              52                  26      0  \n",
       "4                 0.0             255                 128      0  \n",
       "...               ...             ...                 ...    ...  \n",
       "7197              0.0             253                  22      1  \n",
       "7198              0.0              96                   4      1  \n",
       "7199              0.0              92                 255      1  \n",
       "7200              1.0             255                  10      0  \n",
       "7201              1.0             255                  18      0  \n",
       "\n",
       "[7202 rows x 11 columns]"
      ]
     },
     "execution_count": 1,
     "metadata": {},
     "output_type": "execute_result"
    }
   ],
   "source": [
    "import pandas as pd\n",
    "\n",
    "cleaned_df = pd.read_csv(r'D:\\Ashraf\\NCI\\Data Mining & Machine Learning\\Project\\Final Datasets\\Network Intrusion\\cleaned_network.csv')\n",
    "cleaned_df"
   ]
  },
  {
   "cell_type": "markdown",
   "id": "da023cd5",
   "metadata": {},
   "source": [
    "# Random Forest"
   ]
  },
  {
   "cell_type": "code",
   "execution_count": 2,
   "id": "4dd7b555",
   "metadata": {},
   "outputs": [
    {
     "name": "stdout",
     "output_type": "stream",
     "text": [
      "Accuracy (Random Forest): 0.9729354614850798\n",
      "Precision (Random Forest): 0.9719485428606267\n",
      "Recall (Random Forest): 0.971012376327991\n",
      "F1 Score (Random Forest): 0.9714755571120772\n"
     ]
    }
   ],
   "source": [
    "from sklearn.model_selection import train_test_split\n",
    "from sklearn.ensemble import RandomForestClassifier\n",
    "from sklearn.metrics import accuracy_score, precision_score, recall_score, f1_score, classification_report, confusion_matrix, roc_curve, roc_auc_score, precision_recall_curve\n",
    "\n",
    "X = cleaned_df.drop(columns=['class'])\n",
    "y = cleaned_df['class']\n",
    "\n",
    "X_train, X_test, y_train, y_test = train_test_split(X, y, test_size=0.2, random_state=42)\n",
    "\n",
    "model = RandomForestClassifier(random_state=42)\n",
    "model.fit(X_train, y_train)\n",
    "y_pred = model.predict(X_test)\n",
    "\n",
    "accuracy_rf = accuracy_score(y_test, y_pred)\n",
    "precision_rf = precision_score(y_test, y_pred, average='macro')\n",
    "recall_rf = recall_score(y_test, y_pred, average='macro')\n",
    "f1_rf = f1_score(y_test, y_pred, average='macro')\n",
    "\n",
    "print(\"Accuracy (Random Forest):\", accuracy_rf)\n",
    "print(\"Precision (Random Forest):\", precision_rf)\n",
    "print(\"Recall (Random Forest):\", recall_rf)\n",
    "print(\"F1 Score (Random Forest):\", f1_rf)"
   ]
  },
  {
   "cell_type": "code",
   "execution_count": 3,
   "id": "b3b10e4c",
   "metadata": {},
   "outputs": [
    {
     "name": "stdout",
     "output_type": "stream",
     "text": [
      "Classification Report (Random Forest):\n",
      "              precision    recall  f1-score   support\n",
      "\n",
      "           0       0.98      0.98      0.98       882\n",
      "           1       0.97      0.96      0.97       559\n",
      "\n",
      "    accuracy                           0.97      1441\n",
      "   macro avg       0.97      0.97      0.97      1441\n",
      "weighted avg       0.97      0.97      0.97      1441\n",
      "\n"
     ]
    }
   ],
   "source": [
    "classif_report_rf = classification_report(y_test, y_pred)\n",
    "print(\"Classification Report (Random Forest):\")\n",
    "print(classif_report_rf)"
   ]
  },
  {
   "cell_type": "code",
   "execution_count": 4,
   "id": "21b4e749",
   "metadata": {},
   "outputs": [
    {
     "name": "stdout",
     "output_type": "stream",
     "text": [
      "Confusion Matrix (Random Forest):\n",
      "[[864  18]\n",
      " [ 21 538]]\n"
     ]
    }
   ],
   "source": [
    "conf_matrix_rf = confusion_matrix(y_test, y_pred)\n",
    "print(\"Confusion Matrix (Random Forest):\")\n",
    "print(conf_matrix_rf)"
   ]
  },
  {
   "cell_type": "code",
   "execution_count": 5,
   "id": "0d309c61",
   "metadata": {},
   "outputs": [
    {
     "data": {
      "image/png": "[encoded data removed]",
      "text/plain": [
       "<Figure size 800x600 with 1 Axes>"
      ]
     },
     "metadata": {},
     "output_type": "display_data"
    }
   ],
   "source": [
    "import matplotlib.pyplot as plt\n",
    "import seaborn as sns\n",
    "\n",
    "plt.figure(figsize=(8, 6))\n",
    "sns.heatmap(conf_matrix_rf, annot=True, fmt='d', cmap='Blues', cbar=False)\n",
    "plt.xlabel('Predicted')\n",
    "plt.ylabel('True')\n",
    "plt.title('Confusion Matrix (Random Forest)')\n",
    "plt.show()"
   ]
  },
  {
   "cell_type": "code",
   "execution_count": 6,
   "id": "64b2e515",
   "metadata": {},
   "outputs": [
    {
     "data": {
      "image/png": "[encoded data removed]",
      "text/plain": [
       "<Figure size 800x600 with 1 Axes>"
      ]
     },
     "metadata": {},
     "output_type": "display_data"
    }
   ],
   "source": [
    "y_probs_rf = model.predict_proba(X_test)[:, 1]\n",
    "fpr_rf, tpr_rf, thresholds = roc_curve(y_test, y_probs_rf)\n",
    "auc = roc_auc_score(y_test, y_probs_rf)\n",
    "\n",
    "plt.figure(figsize=(8, 6))\n",
    "plt.plot(fpr_rf, tpr_rf, color='blue', label=f'ROC Curve (AUC = {auc:.2f})')\n",
    "plt.plot([0, 1], [0, 1], color='red', linestyle='--')\n",
    "plt.xlabel('False Positive Rate')\n",
    "plt.ylabel('True Positive Rate')\n",
    "plt.title('ROC Curve (Random Forest)')\n",
    "plt.legend()\n",
    "plt.show()"
   ]
  },
  {
   "cell_type": "code",
   "execution_count": 7,
   "id": "afc378ea",
   "metadata": {},
   "outputs": [
    {
     "data": {
      "image/png": "[encoded data removed]",
      "text/plain": [
       "<Figure size 800x600 with 1 Axes>"
      ]
     },
     "metadata": {},
     "output_type": "display_data"
    }
   ],
   "source": [
    "from sklearn.metrics import auc\n",
    "\n",
    "precision_rf, recall_rf, thresholds = precision_recall_curve(y_test, y_probs_rf)\n",
    "pr_auc_rf = auc(recall_rf, precision_rf)\n",
    "\n",
    "plt.figure(figsize=(8, 6))\n",
    "plt.plot(recall_rf, precision_rf, color='green', label=f'Precision-Recall Curve (AUC = {pr_auc_rf:.2f})')\n",
    "plt.xlabel('Recall')\n",
    "plt.ylabel('Precision')\n",
    "plt.title('Precision-Recall Curve (Random Forest)')\n",
    "plt.legend()\n",
    "plt.show()"
   ]
  },
  {
   "cell_type": "code",
   "execution_count": null,
   "id": "5528e30e",
   "metadata": {},
   "outputs": [],
   "source": []
  },
  {
   "cell_type": "code",
   "execution_count": 8,
   "id": "18778799",
   "metadata": {},
   "outputs": [
    {
     "name": "stdout",
     "output_type": "stream",
     "text": [
      "Accuracy (XGBoost): 0.9750173490631506\n",
      "Precision (XGBoost): 0.972875226039783\n",
      "Recall (XGBoost): 0.962432915921288\n",
      "F1 Score (XGBoost): 0.9676258992805755\n"
     ]
    }
   ],
   "source": [
    "import xgboost as xgb\n",
    "\n",
    "# Parameters for XGBoost\n",
    "params = {\n",
    "    'objective': 'binary:logistic',\n",
    "    'random_state': 42\n",
    "}\n",
    "\n",
    "# Train the model\n",
    "model_xgb = xgb.XGBClassifier(**params)\n",
    "model_xgb.fit(X_train, y_train)\n",
    "\n",
    "# Make predictions\n",
    "y_pred_xgb = model_xgb.predict(X_test)\n",
    "\n",
    "# Calculate evaluation metrics\n",
    "accuracy_xgb = accuracy_score(y_test, y_pred_xgb)\n",
    "precision_xgb = precision_score(y_test, y_pred_xgb)\n",
    "recall_xgb = recall_score(y_test, y_pred_xgb)\n",
    "f1_xgb = f1_score(y_test, y_pred_xgb)\n",
    "\n",
    "print(\"Accuracy (XGBoost):\", accuracy_xgb)\n",
    "print(\"Precision (XGBoost):\", precision_xgb)\n",
    "print(\"Recall (XGBoost):\", recall_xgb)\n",
    "print(\"F1 Score (XGBoost):\", f1_xgb)\n"
   ]
  },
  {
   "cell_type": "code",
   "execution_count": 9,
   "id": "9df3ea3c",
   "metadata": {},
   "outputs": [
    {
     "data": {
      "text/html": [
       "<style type='text/css'>\n",
       ".datatable table.frame { margin-bottom: 0; }\n",
       ".datatable table.frame thead { border-bottom: none; }\n",
       ".datatable table.frame tr.coltypes td {  color: #FFFFFF;  line-height: 6px;  padding: 0 0.5em;}\n",
       ".datatable .bool    { background: #DDDD99; }\n",
       ".datatable .object  { background: #565656; }\n",
       ".datatable .int     { background: #5D9E5D; }\n",
       ".datatable .float   { background: #4040CC; }\n",
       ".datatable .str     { background: #CC4040; }\n",
       ".datatable .time    { background: #40CC40; }\n",
       ".datatable .row_index {  background: var(--jp-border-color3);  border-right: 1px solid var(--jp-border-color0);  color: var(--jp-ui-font-color3);  font-size: 9px;}\n",
       ".datatable .frame tbody td { text-align: left; }\n",
       ".datatable .frame tr.coltypes .row_index {  background: var(--jp-border-color0);}\n",
       ".datatable th:nth-child(2) { padding-left: 12px; }\n",
       ".datatable .hellipsis {  color: var(--jp-cell-editor-border-color);}\n",
       ".datatable .vellipsis {  background: var(--jp-layout-color0);  color: var(--jp-cell-editor-border-color);}\n",
       ".datatable .na {  color: var(--jp-cell-editor-border-color);  font-size: 80%;}\n",
       ".datatable .sp {  opacity: 0.25;}\n",
       ".datatable .footer { font-size: 9px; }\n",
       ".datatable .frame_dimensions {  background: var(--jp-border-color3);  border-top: 1px solid var(--jp-border-color0);  color: var(--jp-ui-font-color3);  display: inline-block;  opacity: 0.6;  padding: 1px 10px 1px 5px;}\n",
       "</style>\n"
      ],
      "text/plain": [
       "<IPython.core.display.HTML object>"
      ]
     },
     "metadata": {},
     "output_type": "display_data"
    },
    {
     "name": "stdout",
     "output_type": "stream",
     "text": [
      "[LightGBM] [Info] Number of positive: 2162, number of negative: 3599\n",
      "[LightGBM] [Info] Auto-choosing col-wise multi-threading, the overhead of testing was 0.000409 seconds.\n",
      "You can set `force_col_wise=true` to remove the overhead.\n",
      "[LightGBM] [Info] Total Bins 1225\n",
      "[LightGBM] [Info] Number of data points in the train set: 5761, number of used features: 10\n",
      "[LightGBM] [Info] [binary:BoostFromScore]: pavg=0.375282 -> initscore=-0.509622\n",
      "[LightGBM] [Info] Start training from score -0.509622\n",
      "Accuracy (LightGBM): 0.9729354614850798\n",
      "Precision (LightGBM): 0.9710144927536232\n",
      "Recall (LightGBM): 0.9588550983899821\n",
      "F1 Score (LightGBM): 0.9648964896489649\n"
     ]
    }
   ],
   "source": [
    "import lightgbm as lgb\n",
    "\n",
    "# Parameters for LightGBM\n",
    "params = {\n",
    "    'objective': 'binary',   # For binary classification\n",
    "    'random_state': 42\n",
    "}\n",
    "\n",
    "# Train the model\n",
    "model_lgb = lgb.LGBMClassifier(**params)\n",
    "model_lgb.fit(X_train, y_train)\n",
    "\n",
    "# Make predictions\n",
    "y_pred_lgb = model_lgb.predict(X_test)\n",
    "\n",
    "# Calculate evaluation metrics\n",
    "accuracy_lgb = accuracy_score(y_test, y_pred_lgb)\n",
    "precision_lgb = precision_score(y_test, y_pred_lgb)\n",
    "recall_lgb = recall_score(y_test, y_pred_lgb)\n",
    "f1_lgb = f1_score(y_test, y_pred_lgb)\n",
    "\n",
    "print(\"Accuracy (LightGBM):\", accuracy_lgb)\n",
    "print(\"Precision (LightGBM):\", precision_lgb)\n",
    "print(\"Recall (LightGBM):\", recall_lgb)\n",
    "print(\"F1 Score (LightGBM):\", f1_lgb)\n"
   ]
  },
  {
   "cell_type": "code",
   "execution_count": 10,
   "id": "82ad3df1",
   "metadata": {},
   "outputs": [
    {
     "name": "stdout",
     "output_type": "stream",
     "text": [
      "Checking whether there is an H2O instance running at http://localhost:54321..... not found.\n",
      "Attempting to start a local H2O server...\n",
      "; Java HotSpot(TM) 64-Bit Server VM (build 22.0.1+8-16, mixed mode, sharing)\n",
      "  Starting server from C:\\Users\\Lenovo\\anaconda3\\Lib\\site-packages\\h2o\\backend\\bin\\h2o.jar\n",
      "  Ice root: C:\\Users\\Lenovo\\AppData\\Local\\Temp\\tmp0asqhqmx\n",
      "  JVM stdout: C:\\Users\\Lenovo\\AppData\\Local\\Temp\\tmp0asqhqmx\\h2o_Lenovo_started_from_python.out\n",
      "  JVM stderr: C:\\Users\\Lenovo\\AppData\\Local\\Temp\\tmp0asqhqmx\\h2o_Lenovo_started_from_python.err\n",
      "  Server is running at http://127.0.0.1:54321\n",
      "Connecting to H2O server at http://127.0.0.1:54321 ... successful.\n"
     ]
    },
    {
     "data": {
      "text/html": [
       "\n",
       "<style>\n",
       "\n",
       "#h2o-table-1.h2o-container {\n",
       "  overflow-x: auto;\n",
       "}\n",
       "#h2o-table-1 .h2o-table {\n",
       "  /* width: 100%; */\n",
       "  margin-top: 1em;\n",
       "  margin-bottom: 1em;\n",
       "}\n",
       "#h2o-table-1 .h2o-table caption {\n",
       "  white-space: nowrap;\n",
       "  caption-side: top;\n",
       "  text-align: left;\n",
       "  /* margin-left: 1em; */\n",
       "  margin: 0;\n",
       "  font-size: larger;\n",
       "}\n",
       "#h2o-table-1 .h2o-table thead {\n",
       "  white-space: nowrap; \n",
       "  position: sticky;\n",
       "  top: 0;\n",
       "  box-shadow: 0 -1px inset;\n",
       "}\n",
       "#h2o-table-1 .h2o-table tbody {\n",
       "  overflow: auto;\n",
       "}\n",
       "#h2o-table-1 .h2o-table th,\n",
       "#h2o-table-1 .h2o-table td {\n",
       "  text-align: right;\n",
       "  /* border: 1px solid; */\n",
       "}\n",
       "#h2o-table-1 .h2o-table tr:nth-child(even) {\n",
       "  /* background: #F5F5F5 */\n",
       "}\n",
       "\n",
       "</style>      \n",
       "<div id=\"h2o-table-1\" class=\"h2o-container\">\n",
       "  <table class=\"h2o-table\">\n",
       "    <caption></caption>\n",
       "    <thead></thead>\n",
       "    <tbody><tr><td>H2O_cluster_uptime:</td>\n",
       "<td>03 secs</td></tr>\n",
       "<tr><td>H2O_cluster_timezone:</td>\n",
       "<td>Europe/London</td></tr>\n",
       "<tr><td>H2O_data_parsing_timezone:</td>\n",
       "<td>UTC</td></tr>\n",
       "<tr><td>H2O_cluster_version:</td>\n",
       "<td>3.46.0.1</td></tr>\n",
       "<tr><td>H2O_cluster_version_age:</td>\n",
       "<td>1 month and 17 days</td></tr>\n",
       "<tr><td>H2O_cluster_name:</td>\n",
       "<td>H2O_from_python_Lenovo_la8g03</td></tr>\n",
       "<tr><td>H2O_cluster_total_nodes:</td>\n",
       "<td>1</td></tr>\n",
       "<tr><td>H2O_cluster_free_memory:</td>\n",
       "<td>3.819 Gb</td></tr>\n",
       "<tr><td>H2O_cluster_total_cores:</td>\n",
       "<td>12</td></tr>\n",
       "<tr><td>H2O_cluster_allowed_cores:</td>\n",
       "<td>12</td></tr>\n",
       "<tr><td>H2O_cluster_status:</td>\n",
       "<td>locked, healthy</td></tr>\n",
       "<tr><td>H2O_connection_url:</td>\n",
       "<td>http://127.0.0.1:54321</td></tr>\n",
       "<tr><td>H2O_connection_proxy:</td>\n",
       "<td>{\"http\": null, \"https\": null}</td></tr>\n",
       "<tr><td>H2O_internal_security:</td>\n",
       "<td>False</td></tr>\n",
       "<tr><td>Python_version:</td>\n",
       "<td>3.11.5 final</td></tr></tbody>\n",
       "  </table>\n",
       "</div>\n"
      ],
      "text/plain": [
       "--------------------------  -----------------------------\n",
       "H2O_cluster_uptime:         03 secs\n",
       "H2O_cluster_timezone:       Europe/London\n",
       "H2O_data_parsing_timezone:  UTC\n",
       "H2O_cluster_version:        3.46.0.1\n",
       "H2O_cluster_version_age:    1 month and 17 days\n",
       "H2O_cluster_name:           H2O_from_python_Lenovo_la8g03\n",
       "H2O_cluster_total_nodes:    1\n",
       "H2O_cluster_free_memory:    3.819 Gb\n",
       "H2O_cluster_total_cores:    12\n",
       "H2O_cluster_allowed_cores:  12\n",
       "H2O_cluster_status:         locked, healthy\n",
       "H2O_connection_url:         http://127.0.0.1:54321\n",
       "H2O_connection_proxy:       {\"http\": null, \"https\": null}\n",
       "H2O_internal_security:      False\n",
       "Python_version:             3.11.5 final\n",
       "--------------------------  -----------------------------"
      ]
     },
     "metadata": {},
     "output_type": "display_data"
    }
   ],
   "source": [
    "import h2o\n",
    "import datatable as dt\n",
    "\n",
    "# Initialize H2O cluster\n",
    "h2o.init()"
   ]
  },
  {
   "cell_type": "code",
   "execution_count": 11,
   "id": "c0a65d87",
   "metadata": {},
   "outputs": [
    {
     "name": "stdout",
     "output_type": "stream",
     "text": [
      "Parse progress: |████████████████████████████████████████████████████████████████| (done) 100%\n",
      "drf Model Build progress: |██████████████████████████████████████████████████████| (done) 100%\n",
      "Parse progress: |████████████████████████████████████████████████████████████████| (done) 100%\n",
      "drf prediction progress: |███████████████████████████████████████████████████████| (done) 100%\n",
      "Accuracy (H2O Random Forest): 0.993060374739764\n",
      "Precision (H2O Random Forest): 0.9858407079646018\n",
      "Recall (H2O Random Forest): 0.9964221824686941\n",
      "F1 Score (H2O Random Forest): 0.9911032028469751\n"
     ]
    },
    {
     "name": "stderr",
     "output_type": "stream",
     "text": [
      "C:\\Users\\Lenovo\\anaconda3\\Lib\\site-packages\\h2o\\frame.py:1983: H2ODependencyWarning: Converting H2O frame to pandas dataframe using single-thread.  For faster conversion using multi-thread, install datatable (for Python 3.9 or lower), or polars and pyarrow (for Python 3.10 or above) and activate it using:\n",
      "\n",
      "with h2o.utils.threading.local_context(polars_enabled=True, datatable_enabled=True):\n",
      "    pandas_df = h2o_df.as_data_frame()\n",
      "\n",
      "  warnings.warn(\"Converting H2O frame to pandas dataframe using single-thread.  For faster conversion using\"\n"
     ]
    }
   ],
   "source": [
    "from h2o.estimators import H2ORandomForestEstimator\n",
    "\n",
    "# Convert pandas DataFrame to H2OFrame\n",
    "train_h2o = h2o.H2OFrame(cleaned_df)\n",
    "\n",
    "# Identify predictors and response\n",
    "x = train_h2o.columns\n",
    "y = \"class\"\n",
    "x.remove(y)\n",
    "\n",
    "# Convert response column to categorical\n",
    "train_h2o[y] = train_h2o[y].asfactor()\n",
    "\n",
    "# Train the model\n",
    "model_rf_h2o = H2ORandomForestEstimator(seed=42)\n",
    "model_rf_h2o.train(x=x, y=y, training_frame=train_h2o)\n",
    "\n",
    "# Make predictions\n",
    "test_h2o = h2o.H2OFrame(X_test)\n",
    "predictions_h2o = model_rf_h2o.predict(test_h2o)\n",
    "y_pred_h2o = predictions_h2o.as_data_frame()['predict'].values\n",
    "\n",
    "# Calculate evaluation metrics\n",
    "accuracy_rf_h2o = accuracy_score(y_test, y_pred_h2o)\n",
    "precision_rf_h2o = precision_score(y_test, y_pred_h2o)\n",
    "recall_rf_h2o = recall_score(y_test, y_pred_h2o)\n",
    "f1_rf_h2o = f1_score(y_test, y_pred_h2o)\n",
    "\n",
    "print(\"Accuracy (H2O Random Forest):\", accuracy_rf_h2o)\n",
    "print(\"Precision (H2O Random Forest):\", precision_rf_h2o)\n",
    "print(\"Recall (H2O Random Forest):\", recall_rf_h2o)\n",
    "print(\"F1 Score (H2O Random Forest):\", f1_rf_h2o)\n",
    "\n",
    "# Shut down the H2O cluster\n",
    "# h2o.cluster().shutdown()\n"
   ]
  },
  {
   "cell_type": "code",
   "execution_count": null,
   "id": "af5c4a1f",
   "metadata": {},
   "outputs": [],
   "source": []
  }
 ],
 "metadata": {
  "kernelspec": {
   "display_name": "Python 3 (ipykernel)",
   "language": "python",
   "name": "python3"
  },
  "language_info": {
   "codemirror_mode": {
    "name": "ipython",
    "version": 3
   },
   "file_extension": ".py",
   "mimetype": "text/x-python",
   "name": "python",
   "nbconvert_exporter": "python",
   "pygments_lexer": "ipython3",
   "version": "3.11.5"
  }
 },
 "nbformat": 4,
 "nbformat_minor": 5
}
