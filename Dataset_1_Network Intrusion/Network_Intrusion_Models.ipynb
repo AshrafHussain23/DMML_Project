{
 "cells": [
  {
   "cell_type": "markdown",
   "id": "ec0b5d01",
   "metadata": {},
   "source": [
    "# Loading Preprocessed Data"
   ]
  },
  {
   "cell_type": "code",
   "execution_count": 9,
   "id": "3eef7665",
   "metadata": {},
   "outputs": [
    {
     "data": {
      "text/html": [
       "<div>\n",
       "<style scoped>\n",
       "    .dataframe tbody tr th:only-of-type {\n",
       "        vertical-align: middle;\n",
       "    }\n",
       "\n",
       "    .dataframe tbody tr th {\n",
       "        vertical-align: top;\n",
       "    }\n",
       "\n",
       "    .dataframe thead th {\n",
       "        text-align: right;\n",
       "    }\n",
       "</style>\n",
       "<table border=\"1\" class=\"dataframe\">\n",
       "  <thead>\n",
       "    <tr style=\"text-align: right;\">\n",
       "      <th></th>\n",
       "      <th>protocol_type</th>\n",
       "      <th>service</th>\n",
       "      <th>flag</th>\n",
       "      <th>src_bytes</th>\n",
       "      <th>dst_bytes</th>\n",
       "      <th>count</th>\n",
       "      <th>srv_count</th>\n",
       "      <th>srv_rerror_rate</th>\n",
       "      <th>dst_host_count</th>\n",
       "      <th>dst_host_srv_count</th>\n",
       "      <th>class</th>\n",
       "    </tr>\n",
       "  </thead>\n",
       "  <tbody>\n",
       "    <tr>\n",
       "      <th>0</th>\n",
       "      <td>-0.247801</td>\n",
       "      <td>0.782637</td>\n",
       "      <td>-1.214300</td>\n",
       "      <td>-0.782189</td>\n",
       "      <td>-0.564874</td>\n",
       "      <td>1.448406</td>\n",
       "      <td>0.300187</td>\n",
       "      <td>1.113584</td>\n",
       "      <td>0.600455</td>\n",
       "      <td>-0.897696</td>\n",
       "      <td>0</td>\n",
       "    </tr>\n",
       "    <tr>\n",
       "      <th>1</th>\n",
       "      <td>-0.247801</td>\n",
       "      <td>0.782637</td>\n",
       "      <td>-1.214300</td>\n",
       "      <td>-0.782189</td>\n",
       "      <td>-0.564874</td>\n",
       "      <td>0.528536</td>\n",
       "      <td>-0.955734</td>\n",
       "      <td>1.113584</td>\n",
       "      <td>0.600455</td>\n",
       "      <td>-0.976287</td>\n",
       "      <td>0</td>\n",
       "    </tr>\n",
       "    <tr>\n",
       "      <th>2</th>\n",
       "      <td>-0.247801</td>\n",
       "      <td>1.509026</td>\n",
       "      <td>0.877059</td>\n",
       "      <td>0.242490</td>\n",
       "      <td>-0.236767</td>\n",
       "      <td>-0.806759</td>\n",
       "      <td>-0.955734</td>\n",
       "      <td>-0.898539</td>\n",
       "      <td>0.600455</td>\n",
       "      <td>1.241745</td>\n",
       "      <td>0</td>\n",
       "    </tr>\n",
       "    <tr>\n",
       "      <th>3</th>\n",
       "      <td>-0.247801</td>\n",
       "      <td>-1.105974</td>\n",
       "      <td>0.877059</td>\n",
       "      <td>-0.575665</td>\n",
       "      <td>-0.268824</td>\n",
       "      <td>-0.806759</td>\n",
       "      <td>-0.955734</td>\n",
       "      <td>-0.898539</td>\n",
       "      <td>-1.604666</td>\n",
       "      <td>-0.757977</td>\n",
       "      <td>0</td>\n",
       "    </tr>\n",
       "    <tr>\n",
       "      <th>4</th>\n",
       "      <td>-0.247801</td>\n",
       "      <td>1.509026</td>\n",
       "      <td>0.877059</td>\n",
       "      <td>-0.782189</td>\n",
       "      <td>-0.564874</td>\n",
       "      <td>-0.806759</td>\n",
       "      <td>-0.955734</td>\n",
       "      <td>-0.898539</td>\n",
       "      <td>0.600455</td>\n",
       "      <td>0.132729</td>\n",
       "      <td>0</td>\n",
       "    </tr>\n",
       "    <tr>\n",
       "      <th>...</th>\n",
       "      <td>...</td>\n",
       "      <td>...</td>\n",
       "      <td>...</td>\n",
       "      <td>...</td>\n",
       "      <td>...</td>\n",
       "      <td>...</td>\n",
       "      <td>...</td>\n",
       "      <td>...</td>\n",
       "      <td>...</td>\n",
       "      <td>...</td>\n",
       "      <td>...</td>\n",
       "    </tr>\n",
       "    <tr>\n",
       "      <th>7201</th>\n",
       "      <td>2.609250</td>\n",
       "      <td>0.492082</td>\n",
       "      <td>0.877059</td>\n",
       "      <td>0.131284</td>\n",
       "      <td>-0.564874</td>\n",
       "      <td>-0.599046</td>\n",
       "      <td>1.974749</td>\n",
       "      <td>-0.898539</td>\n",
       "      <td>0.578730</td>\n",
       "      <td>-0.792907</td>\n",
       "      <td>1</td>\n",
       "    </tr>\n",
       "    <tr>\n",
       "      <th>7202</th>\n",
       "      <td>-0.247801</td>\n",
       "      <td>-1.178613</td>\n",
       "      <td>0.877059</td>\n",
       "      <td>-0.710700</td>\n",
       "      <td>-0.302766</td>\n",
       "      <td>-0.806759</td>\n",
       "      <td>-0.955734</td>\n",
       "      <td>-0.898539</td>\n",
       "      <td>-1.126708</td>\n",
       "      <td>-0.950090</td>\n",
       "      <td>1</td>\n",
       "    </tr>\n",
       "    <tr>\n",
       "      <th>7203</th>\n",
       "      <td>-0.247801</td>\n",
       "      <td>-0.815419</td>\n",
       "      <td>0.877059</td>\n",
       "      <td>1.394260</td>\n",
       "      <td>2.495569</td>\n",
       "      <td>-0.806759</td>\n",
       "      <td>-0.955734</td>\n",
       "      <td>-0.898539</td>\n",
       "      <td>-1.170159</td>\n",
       "      <td>1.241745</td>\n",
       "      <td>1</td>\n",
       "    </tr>\n",
       "    <tr>\n",
       "      <th>7204</th>\n",
       "      <td>-0.247801</td>\n",
       "      <td>0.782637</td>\n",
       "      <td>-1.214300</td>\n",
       "      <td>-0.782189</td>\n",
       "      <td>-0.564874</td>\n",
       "      <td>1.507753</td>\n",
       "      <td>0.300187</td>\n",
       "      <td>1.113584</td>\n",
       "      <td>0.600455</td>\n",
       "      <td>-0.897696</td>\n",
       "      <td>0</td>\n",
       "    </tr>\n",
       "    <tr>\n",
       "      <th>7205</th>\n",
       "      <td>-0.247801</td>\n",
       "      <td>-0.597502</td>\n",
       "      <td>-1.214300</td>\n",
       "      <td>-0.782189</td>\n",
       "      <td>-0.564874</td>\n",
       "      <td>0.439517</td>\n",
       "      <td>1.416562</td>\n",
       "      <td>1.113584</td>\n",
       "      <td>0.600455</td>\n",
       "      <td>-0.827836</td>\n",
       "      <td>0</td>\n",
       "    </tr>\n",
       "  </tbody>\n",
       "</table>\n",
       "<p>7206 rows × 11 columns</p>\n",
       "</div>"
      ],
      "text/plain": [
       "      protocol_type   service      flag  src_bytes  dst_bytes     count  \\\n",
       "0         -0.247801  0.782637 -1.214300  -0.782189  -0.564874  1.448406   \n",
       "1         -0.247801  0.782637 -1.214300  -0.782189  -0.564874  0.528536   \n",
       "2         -0.247801  1.509026  0.877059   0.242490  -0.236767 -0.806759   \n",
       "3         -0.247801 -1.105974  0.877059  -0.575665  -0.268824 -0.806759   \n",
       "4         -0.247801  1.509026  0.877059  -0.782189  -0.564874 -0.806759   \n",
       "...             ...       ...       ...        ...        ...       ...   \n",
       "7201       2.609250  0.492082  0.877059   0.131284  -0.564874 -0.599046   \n",
       "7202      -0.247801 -1.178613  0.877059  -0.710700  -0.302766 -0.806759   \n",
       "7203      -0.247801 -0.815419  0.877059   1.394260   2.495569 -0.806759   \n",
       "7204      -0.247801  0.782637 -1.214300  -0.782189  -0.564874  1.507753   \n",
       "7205      -0.247801 -0.597502 -1.214300  -0.782189  -0.564874  0.439517   \n",
       "\n",
       "      srv_count  srv_rerror_rate  dst_host_count  dst_host_srv_count  class  \n",
       "0      0.300187         1.113584        0.600455           -0.897696      0  \n",
       "1     -0.955734         1.113584        0.600455           -0.976287      0  \n",
       "2     -0.955734        -0.898539        0.600455            1.241745      0  \n",
       "3     -0.955734        -0.898539       -1.604666           -0.757977      0  \n",
       "4     -0.955734        -0.898539        0.600455            0.132729      0  \n",
       "...         ...              ...             ...                 ...    ...  \n",
       "7201   1.974749        -0.898539        0.578730           -0.792907      1  \n",
       "7202  -0.955734        -0.898539       -1.126708           -0.950090      1  \n",
       "7203  -0.955734        -0.898539       -1.170159            1.241745      1  \n",
       "7204   0.300187         1.113584        0.600455           -0.897696      0  \n",
       "7205   1.416562         1.113584        0.600455           -0.827836      0  \n",
       "\n",
       "[7206 rows x 11 columns]"
      ]
     },
     "execution_count": 9,
     "metadata": {},
     "output_type": "execute_result"
    }
   ],
   "source": [
    "import pandas as pd\n",
    "\n",
    "df = pd.read_csv('cleaned_network.csv')\n",
    "df"
   ]
  },
  {
   "cell_type": "markdown",
   "id": "653ecea2",
   "metadata": {},
   "source": [
    "# Modelling"
   ]
  },
  {
   "cell_type": "markdown",
   "id": "7446a129",
   "metadata": {},
   "source": [
    "# Split data into train and test"
   ]
  },
  {
   "cell_type": "code",
   "execution_count": 10,
   "id": "07c7d16a",
   "metadata": {},
   "outputs": [],
   "source": [
    "from sklearn.model_selection import train_test_split\n",
    "\n",
    "X = df.drop(columns=['class'])\n",
    "y = df['class']\n",
    "\n",
    "X_train, X_test, y_train, y_test = train_test_split(X, y, test_size=0.3, random_state=42)"
   ]
  },
  {
   "cell_type": "markdown",
   "id": "41797351",
   "metadata": {},
   "source": [
    "# Random Forest - SKLearn"
   ]
  },
  {
   "cell_type": "code",
   "execution_count": 11,
   "id": "55a3c005",
   "metadata": {},
   "outputs": [
    {
     "name": "stdout",
     "output_type": "stream",
     "text": [
      "Best Parameters: {'max_depth': 10, 'min_samples_leaf': 1, 'min_samples_split': 5, 'n_estimators': 100}\n"
     ]
    }
   ],
   "source": [
    "from sklearn.model_selection import GridSearchCV\n",
    "from sklearn.ensemble import RandomForestClassifier\n",
    "from sklearn.metrics import accuracy_score, precision_score, recall_score, f1_score, classification_report, confusion_matrix\n",
    "\n",
    "parameters_rf = {\n",
    "    'n_estimators': [100, 200, 300],\n",
    "    'max_depth': [None, 10, 20],\n",
    "    'min_samples_split': [2, 5, 10],\n",
    "    'min_samples_leaf': [1, 2, 4],\n",
    "}\n",
    "\n",
    "rf = RandomForestClassifier(random_state=42)\n",
    "grid_search = GridSearchCV(estimator=rf, param_grid=parameters_rf, cv=3, scoring='accuracy')\n",
    "grid_search.fit(X_train, y_train)\n",
    "\n",
    "best_params = grid_search.best_params_\n",
    "\n",
    "print(\"Best Parameters:\", best_params)"
   ]
  },
  {
   "cell_type": "code",
   "execution_count": 12,
   "id": "6e0ae5f4",
   "metadata": {},
   "outputs": [
    {
     "data": {
      "text/html": [
       "<style>#sk-container-id-2 {color: black;}#sk-container-id-2 pre{padding: 0;}#sk-container-id-2 div.sk-toggleable {background-color: white;}#sk-container-id-2 label.sk-toggleable__label {cursor: pointer;display: block;width: 100%;margin-bottom: 0;padding: 0.3em;box-sizing: border-box;text-align: center;}#sk-container-id-2 label.sk-toggleable__label-arrow:before {content: \"▸\";float: left;margin-right: 0.25em;color: #696969;}#sk-container-id-2 label.sk-toggleable__label-arrow:hover:before {color: black;}#sk-container-id-2 div.sk-estimator:hover label.sk-toggleable__label-arrow:before {color: black;}#sk-container-id-2 div.sk-toggleable__content {max-height: 0;max-width: 0;overflow: hidden;text-align: left;background-color: #f0f8ff;}#sk-container-id-2 div.sk-toggleable__content pre {margin: 0.2em;color: black;border-radius: 0.25em;background-color: #f0f8ff;}#sk-container-id-2 input.sk-toggleable__control:checked~div.sk-toggleable__content {max-height: 200px;max-width: 100%;overflow: auto;}#sk-container-id-2 input.sk-toggleable__control:checked~label.sk-toggleable__label-arrow:before {content: \"▾\";}#sk-container-id-2 div.sk-estimator input.sk-toggleable__control:checked~label.sk-toggleable__label {background-color: #d4ebff;}#sk-container-id-2 div.sk-label input.sk-toggleable__control:checked~label.sk-toggleable__label {background-color: #d4ebff;}#sk-container-id-2 input.sk-hidden--visually {border: 0;clip: rect(1px 1px 1px 1px);clip: rect(1px, 1px, 1px, 1px);height: 1px;margin: -1px;overflow: hidden;padding: 0;position: absolute;width: 1px;}#sk-container-id-2 div.sk-estimator {font-family: monospace;background-color: #f0f8ff;border: 1px dotted black;border-radius: 0.25em;box-sizing: border-box;margin-bottom: 0.5em;}#sk-container-id-2 div.sk-estimator:hover {background-color: #d4ebff;}#sk-container-id-2 div.sk-parallel-item::after {content: \"\";width: 100%;border-bottom: 1px solid gray;flex-grow: 1;}#sk-container-id-2 div.sk-label:hover label.sk-toggleable__label {background-color: #d4ebff;}#sk-container-id-2 div.sk-serial::before {content: \"\";position: absolute;border-left: 1px solid gray;box-sizing: border-box;top: 0;bottom: 0;left: 50%;z-index: 0;}#sk-container-id-2 div.sk-serial {display: flex;flex-direction: column;align-items: center;background-color: white;padding-right: 0.2em;padding-left: 0.2em;position: relative;}#sk-container-id-2 div.sk-item {position: relative;z-index: 1;}#sk-container-id-2 div.sk-parallel {display: flex;align-items: stretch;justify-content: center;background-color: white;position: relative;}#sk-container-id-2 div.sk-item::before, #sk-container-id-2 div.sk-parallel-item::before {content: \"\";position: absolute;border-left: 1px solid gray;box-sizing: border-box;top: 0;bottom: 0;left: 50%;z-index: -1;}#sk-container-id-2 div.sk-parallel-item {display: flex;flex-direction: column;z-index: 1;position: relative;background-color: white;}#sk-container-id-2 div.sk-parallel-item:first-child::after {align-self: flex-end;width: 50%;}#sk-container-id-2 div.sk-parallel-item:last-child::after {align-self: flex-start;width: 50%;}#sk-container-id-2 div.sk-parallel-item:only-child::after {width: 0;}#sk-container-id-2 div.sk-dashed-wrapped {border: 1px dashed gray;margin: 0 0.4em 0.5em 0.4em;box-sizing: border-box;padding-bottom: 0.4em;background-color: white;}#sk-container-id-2 div.sk-label label {font-family: monospace;font-weight: bold;display: inline-block;line-height: 1.2em;}#sk-container-id-2 div.sk-label-container {text-align: center;}#sk-container-id-2 div.sk-container {/* jupyter's `normalize.less` sets `[hidden] { display: none; }` but bootstrap.min.css set `[hidden] { display: none !important; }` so we also need the `!important` here to be able to override the default hidden behavior on the sphinx rendered scikit-learn.org. See: https://github.com/scikit-learn/scikit-learn/issues/21755 */display: inline-block !important;position: relative;}#sk-container-id-2 div.sk-text-repr-fallback {display: none;}</style><div id=\"sk-container-id-2\" class=\"sk-top-container\"><div class=\"sk-text-repr-fallback\"><pre>RandomForestClassifier(max_depth=10, min_samples_split=5, random_state=42)</pre><b>In a Jupyter environment, please rerun this cell to show the HTML representation or trust the notebook. <br />On GitHub, the HTML representation is unable to render, please try loading this page with nbviewer.org.</b></div><div class=\"sk-container\" hidden><div class=\"sk-item\"><div class=\"sk-estimator sk-toggleable\"><input class=\"sk-toggleable__control sk-hidden--visually\" id=\"sk-estimator-id-2\" type=\"checkbox\" checked><label for=\"sk-estimator-id-2\" class=\"sk-toggleable__label sk-toggleable__label-arrow\">RandomForestClassifier</label><div class=\"sk-toggleable__content\"><pre>RandomForestClassifier(max_depth=10, min_samples_split=5, random_state=42)</pre></div></div></div></div></div>"
      ],
      "text/plain": [
       "RandomForestClassifier(max_depth=10, min_samples_split=5, random_state=42)"
      ]
     },
     "execution_count": 12,
     "metadata": {},
     "output_type": "execute_result"
    }
   ],
   "source": [
    "best_rf = RandomForestClassifier(**best_params, random_state=42)\n",
    "best_rf.fit(X_train, y_train)"
   ]
  },
  {
   "cell_type": "code",
   "execution_count": 13,
   "id": "32ef3411",
   "metadata": {},
   "outputs": [
    {
     "name": "stdout",
     "output_type": "stream",
     "text": [
      "Accuracy (Random Forest): 0.9754856614246068\n",
      "F1 Score (Random Forest): 0.9754200001781264\n"
     ]
    }
   ],
   "source": [
    "y_pred_rf = best_rf.predict(X_test)\n",
    "\n",
    "accuracy_rf = accuracy_score(y_test, y_pred_rf)\n",
    "f1_rf = f1_score(y_test, y_pred_rf, average='weighted')\n",
    "\n",
    "print(\"Accuracy (Random Forest):\", accuracy_rf)\n",
    "print(\"F1 Score (Random Forest):\", f1_rf)"
   ]
  },
  {
   "cell_type": "code",
   "execution_count": 14,
   "id": "e666cb61",
   "metadata": {},
   "outputs": [
    {
     "name": "stdout",
     "output_type": "stream",
     "text": [
      "Classification Report (Random Forest):\n",
      "               precision    recall  f1-score   support\n",
      "\n",
      "           0       0.97      0.99      0.98      1375\n",
      "           1       0.98      0.95      0.97       787\n",
      "\n",
      "    accuracy                           0.98      2162\n",
      "   macro avg       0.98      0.97      0.97      2162\n",
      "weighted avg       0.98      0.98      0.98      2162\n",
      "\n"
     ]
    }
   ],
   "source": [
    "classif_report_rf = classification_report(y_test, y_pred_rf)\n",
    "print('Classification Report (Random Forest):\\n', classif_report_rf)"
   ]
  },
  {
   "cell_type": "code",
   "execution_count": 17,
   "id": "237cfb98",
   "metadata": {},
   "outputs": [
    {
     "data": {
      "image/png": "[encoded data removed]",
      "text/plain": [
       "<Figure size 800x600 with 2 Axes>"
      ]
     },
     "metadata": {},
     "output_type": "display_data"
    }
   ],
   "source": [
    "import matplotlib.pyplot as plt\n",
    "import seaborn as sns\n",
    "\n",
    "conf_matrix_rf = confusion_matrix(y_test, y_pred_rf)\n",
    "\n",
    "plt.figure(figsize=(8,6))\n",
    "sns.heatmap(conf_matrix_rf, cmap='Blues',fmt='.2f',annot=True)\n",
    "plt.title('Confusion Matrix (Random Forest)')\n",
    "plt.show()"
   ]
  },
  {
   "cell_type": "markdown",
   "id": "ce3efa03",
   "metadata": {},
   "source": [
    "# XGBoost"
   ]
  },
  {
   "cell_type": "code",
   "execution_count": 19,
   "id": "2963cccb",
   "metadata": {},
   "outputs": [
    {
     "name": "stdout",
     "output_type": "stream",
     "text": [
      "Best Parameters: {'learning_rate': 0.1, 'max_depth': 7, 'n_estimators': 100}\n"
     ]
    }
   ],
   "source": [
    "import xgboost as xgb\n",
    "\n",
    "parameters_xgb = {\n",
    "    'n_estimators': [100, 200, 300],\n",
    "    'max_depth': [3, 5, 7],\n",
    "    'learning_rate': [0.01, 0.1, 0.3],\n",
    "}\n",
    "\n",
    "model_xgb = xgb.XGBClassifier(random_state=42)\n",
    "\n",
    "grid_search = GridSearchCV(estimator=model_xgb, param_grid=parameters_xgb, cv=3, scoring='accuracy')\n",
    "grid_search.fit(X_train, y_train)\n",
    "\n",
    "best_params_xgb = grid_search.best_params_\n",
    "print(\"Best Parameters:\", best_params_xgb)"
   ]
  },
  {
   "cell_type": "code",
   "execution_count": 20,
   "id": "b7b6aa4e",
   "metadata": {},
   "outputs": [
    {
     "name": "stderr",
     "output_type": "stream",
     "text": [
      "C:\\Users\\Lenovo\\anaconda3\\Lib\\site-packages\\xgboost\\core.py:160: UserWarning: [18:33:18] WARNING: C:\\buildkite-agent\\builds\\buildkite-windows-cpu-autoscaling-group-i-0b3782d1791676daf-1\\xgboost\\xgboost-ci-windows\\src\\learner.cc:742: \n",
      "Parameters: { \"min_samples_leaf\", \"min_samples_split\" } are not used.\n",
      "\n",
      "  warnings.warn(smsg, UserWarning)\n"
     ]
    },
    {
     "name": "stdout",
     "output_type": "stream",
     "text": [
      "Accuracy (XGBoost): 0.973172987974098\n",
      "F1 Score (XGBoost): 0.9731205514139859\n"
     ]
    }
   ],
   "source": [
    "best_xgb = xgb.XGBClassifier(**best_params, random_state=42)\n",
    "best_xgb.fit(X_train, y_train)\n",
    "\n",
    "y_pred_xgb = best_xgb.predict(X_test)\n",
    "\n",
    "accuracy_xgb = accuracy_score(y_test, y_pred_xgb)\n",
    "f1_xgb = f1_score(y_test, y_pred_xgb, average='weighted')\n",
    "\n",
    "print(\"Accuracy (XGBoost):\", accuracy_xgb)\n",
    "print(\"F1 Score (XGBoost):\", f1_xgb)"
   ]
  },
  {
   "cell_type": "code",
   "execution_count": 21,
   "id": "d23c2824",
   "metadata": {},
   "outputs": [
    {
     "name": "stdout",
     "output_type": "stream",
     "text": [
      "Classification Report (XGBoost):\n",
      "               precision    recall  f1-score   support\n",
      "\n",
      "           0       0.97      0.98      0.98      1375\n",
      "           1       0.97      0.95      0.96       787\n",
      "\n",
      "    accuracy                           0.97      2162\n",
      "   macro avg       0.97      0.97      0.97      2162\n",
      "weighted avg       0.97      0.97      0.97      2162\n",
      "\n"
     ]
    }
   ],
   "source": [
    "classif_report_xgb = classification_report(y_test, y_pred_xgb)\n",
    "print('Classification Report (XGBoost):\\n', classif_report_xgb)"
   ]
  },
  {
   "cell_type": "code",
   "execution_count": 22,
   "id": "62d7c02d",
   "metadata": {},
   "outputs": [
    {
     "data": {
      "image/png": "[encoded data removed]",
      "text/plain": [
       "<Figure size 800x600 with 2 Axes>"
      ]
     },
     "metadata": {},
     "output_type": "display_data"
    }
   ],
   "source": [
    "conf_matrix_xgb = confusion_matrix(y_test, y_pred_xgb)\n",
    "\n",
    "plt.figure(figsize=(8,6))\n",
    "sns.heatmap(conf_matrix_xgb, cmap='Blues',fmt='.2f',annot=True)\n",
    "plt.title('Confusion Matrix (Random Forest)')\n",
    "plt.show()"
   ]
  },
  {
   "cell_type": "markdown",
   "id": "041a87ca",
   "metadata": {},
   "source": [
    "# Support Vector Machine (SVM)"
   ]
  },
  {
   "cell_type": "code",
   "execution_count": 23,
   "id": "60836287",
   "metadata": {},
   "outputs": [
    {
     "name": "stdout",
     "output_type": "stream",
     "text": [
      "Accuracy (SVM): 0.9518963922294172\n",
      "F1 Score (SVM): 0.9512533491117061\n"
     ]
    }
   ],
   "source": [
    "from sklearn.svm import SVC\n",
    "\n",
    "model_svm = SVC(random_state=42)\n",
    "model_svm.fit(X_train, y_train)\n",
    "\n",
    "y_pred_svm = model_svm.predict(X_test)\n",
    "\n",
    "accuracy_svm = accuracy_score(y_test, y_pred_svm)\n",
    "f1_svm = f1_score(y_test, y_pred_svm, average='weighted')\n",
    "\n",
    "print(\"Accuracy (SVM):\", accuracy_svm)\n",
    "print(\"F1 Score (SVM):\", f1_svm)"
   ]
  },
  {
   "cell_type": "code",
   "execution_count": 24,
   "id": "87d9cbf2",
   "metadata": {},
   "outputs": [
    {
     "name": "stdout",
     "output_type": "stream",
     "text": [
      "Classification Report (SVM):\n",
      "               precision    recall  f1-score   support\n",
      "\n",
      "           0       0.94      0.99      0.96      1375\n",
      "           1       0.99      0.88      0.93       787\n",
      "\n",
      "    accuracy                           0.95      2162\n",
      "   macro avg       0.96      0.94      0.95      2162\n",
      "weighted avg       0.95      0.95      0.95      2162\n",
      "\n"
     ]
    }
   ],
   "source": [
    "classif_report_svm = classification_report(y_test, y_pred_svm)\n",
    "print(\"Classification Report (SVM):\\n\", classif_report_svm)"
   ]
  },
  {
   "cell_type": "code",
   "execution_count": 33,
   "id": "515d8bb5",
   "metadata": {},
   "outputs": [
    {
     "data": {
      "image/png": "[encoded data removed]",
      "text/plain": [
       "<Figure size 800x600 with 2 Axes>"
      ]
     },
     "metadata": {},
     "output_type": "display_data"
    }
   ],
   "source": [
    "conf_matrix_svm = confusion_matrix(y_test, y_pred_svm)\n",
    "\n",
    "plt.figure(figsize=(8,6))\n",
    "sns.heatmap(conf_matrix_svm, cmap='Blues',fmt='.2f',annot=True)\n",
    "plt.title('Confusion Matrix (SVM)')\n",
    "plt.show()"
   ]
  },
  {
   "cell_type": "markdown",
   "id": "21b47bdf",
   "metadata": {},
   "source": [
    "# SVM - LIBSVM"
   ]
  },
  {
   "cell_type": "code",
   "execution_count": 27,
   "id": "ec9af892",
   "metadata": {},
   "outputs": [
    {
     "name": "stderr",
     "output_type": "stream",
     "text": [
      "C:\\Users\\Lenovo\\anaconda3\\Lib\\site-packages\\libsvm\\svm.py:148: NumbaDeprecationWarning: \u001b[1mThe 'nopython' keyword argument was not supplied to the 'numba.jit' decorator. The implicit default value for this argument is currently False, but it will be changed to True in Numba 0.59.0. See https://numba.readthedocs.io/en/stable/reference/deprecation.html#deprecation-of-object-mode-fall-back-behaviour-when-using-jit for details.\u001b[0m\n",
      "  @jit\n"
     ]
    },
    {
     "name": "stdout",
     "output_type": "stream",
     "text": [
      "Accuracy = 93.1545% (2014/2162) (classification)\n",
      "Accuracy (LIBSVM): 0.9315448658649399\n",
      "F1 Score (LIBSVM): 0.9300660389742388\n"
     ]
    }
   ],
   "source": [
    "from libsvm.svmutil import svm_train, svm_predict\n",
    "\n",
    "X_libsvm = X_train.values.tolist()\n",
    "X_test_libsvm = X_test.values.tolist()\n",
    "y_libsvm = y_train.tolist()\n",
    "y_test_libsvm = y_test.tolist()\n",
    "\n",
    "model_libsvm = svm_train(y_libsvm, X_libsvm, '-s 0 -t 0 -c 1')\n",
    "\n",
    "svm_labels, svm_accuracy, _ = svm_predict(y_test_libsvm, X_test_libsvm, model_libsvm)\n",
    "\n",
    "accuracy_libsvm = accuracy_score(y_test_libsvm, svm_labels)\n",
    "f1_libsvm = f1_score(y_test_libsvm, svm_labels, average='weighted')\n",
    "\n",
    "print(\"Accuracy (LIBSVM):\", accuracy_libsvm)\n",
    "print(\"F1 Score (LIBSVM):\", f1_libsvm)"
   ]
  },
  {
   "cell_type": "code",
   "execution_count": 31,
   "id": "e3e3bf8b",
   "metadata": {},
   "outputs": [
    {
     "name": "stdout",
     "output_type": "stream",
     "text": [
      "Classification Report (LIBSVM):\n",
      "               precision    recall  f1-score   support\n",
      "\n",
      "           0       0.91      0.99      0.95      1375\n",
      "           1       0.98      0.83      0.90       787\n",
      "\n",
      "    accuracy                           0.93      2162\n",
      "   macro avg       0.95      0.91      0.92      2162\n",
      "weighted avg       0.94      0.93      0.93      2162\n",
      "\n"
     ]
    }
   ],
   "source": [
    "print('Classification Report (LIBSVM):\\n', classification_report(y_test_libsvm, svm_labels))"
   ]
  },
  {
   "cell_type": "code",
   "execution_count": 32,
   "id": "d8535792",
   "metadata": {},
   "outputs": [
    {
     "data": {
      "image/png": "[encoded data removed]",
      "text/plain": [
       "<Figure size 800x600 with 2 Axes>"
      ]
     },
     "metadata": {},
     "output_type": "display_data"
    }
   ],
   "source": [
    "conf_matrix_libsvm = confusion_matrix(y_test_libsvm, svm_labels)\n",
    "\n",
    "plt.figure(figsize=(8,6))\n",
    "sns.heatmap(conf_matrix_libsvm, cmap='Blues',fmt='.2f',annot=True)\n",
    "plt.title('Confusion Matrix (LIBSVM)')\n",
    "plt.show()"
   ]
  },
  {
   "cell_type": "code",
   "execution_count": null,
   "id": "adcaa56e",
   "metadata": {},
   "outputs": [],
   "source": []
  },
  {
   "cell_type": "code",
   "execution_count": null,
   "id": "ea3a3b0e",
   "metadata": {},
   "outputs": [],
   "source": []
  }
 ],
 "metadata": {
  "kernelspec": {
   "display_name": "Python 3 (ipykernel)",
   "language": "python",
   "name": "python3"
  },
  "language_info": {
   "codemirror_mode": {
    "name": "ipython",
    "version": 3
   },
   "file_extension": ".py",
   "mimetype": "text/x-python",
   "name": "python",
   "nbconvert_exporter": "python",
   "pygments_lexer": "ipython3",
   "version": "3.11.5"
  }
 },
 "nbformat": 4,
 "nbformat_minor": 5
}
