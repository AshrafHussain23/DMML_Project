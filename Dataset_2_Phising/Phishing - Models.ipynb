{
 "cells": [
  {
   "cell_type": "markdown",
   "id": "7ae0ef06",
   "metadata": {},
   "source": [
    "# Loading Preprocessed Data"
   ]
  },
  {
   "cell_type": "code",
   "execution_count": 2,
   "id": "4c36f2cf",
   "metadata": {},
   "outputs": [
    {
     "data": {
      "text/html": [
       "<div>\n",
       "<style scoped>\n",
       "    .dataframe tbody tr th:only-of-type {\n",
       "        vertical-align: middle;\n",
       "    }\n",
       "\n",
       "    .dataframe tbody tr th {\n",
       "        vertical-align: top;\n",
       "    }\n",
       "\n",
       "    .dataframe thead th {\n",
       "        text-align: right;\n",
       "    }\n",
       "</style>\n",
       "<table border=\"1\" class=\"dataframe\">\n",
       "  <thead>\n",
       "    <tr style=\"text-align: right;\">\n",
       "      <th></th>\n",
       "      <th>NumDots</th>\n",
       "      <th>SubdomainLevel</th>\n",
       "      <th>PathLevel</th>\n",
       "      <th>NumDash</th>\n",
       "      <th>NumDashInHostname</th>\n",
       "      <th>AtSymbol</th>\n",
       "      <th>TildeSymbol</th>\n",
       "      <th>NumUnderscore</th>\n",
       "      <th>NumPercent</th>\n",
       "      <th>NumQueryComponents</th>\n",
       "      <th>...</th>\n",
       "      <th>IframeOrFrame</th>\n",
       "      <th>MissingTitle</th>\n",
       "      <th>ImagesOnlyInForm</th>\n",
       "      <th>SubdomainLevelRT</th>\n",
       "      <th>UrlLengthRT</th>\n",
       "      <th>PctExtResourceUrlsRT</th>\n",
       "      <th>AbnormalExtFormActionR</th>\n",
       "      <th>ExtMetaScriptLinkRT</th>\n",
       "      <th>PctExtNullSelfRedirectHyperlinksRT</th>\n",
       "      <th>CLASS_LABEL</th>\n",
       "    </tr>\n",
       "  </thead>\n",
       "  <tbody>\n",
       "    <tr>\n",
       "      <th>0</th>\n",
       "      <td>0.412023</td>\n",
       "      <td>0.550071</td>\n",
       "      <td>0.912273</td>\n",
       "      <td>-0.585299</td>\n",
       "      <td>-0.254528</td>\n",
       "      <td>-0.017323</td>\n",
       "      <td>-0.115212</td>\n",
       "      <td>-0.289968</td>\n",
       "      <td>-0.118608</td>\n",
       "      <td>-0.341036</td>\n",
       "      <td>...</td>\n",
       "      <td>-0.717101</td>\n",
       "      <td>-0.182404</td>\n",
       "      <td>5.647543</td>\n",
       "      <td>0.174982</td>\n",
       "      <td>-0.024634</td>\n",
       "      <td>0.727558</td>\n",
       "      <td>0.396934</td>\n",
       "      <td>-1.552665</td>\n",
       "      <td>0.763980</td>\n",
       "      <td>1</td>\n",
       "    </tr>\n",
       "    <tr>\n",
       "      <th>1</th>\n",
       "      <td>0.412023</td>\n",
       "      <td>0.550071</td>\n",
       "      <td>-0.161179</td>\n",
       "      <td>-0.585299</td>\n",
       "      <td>-0.254528</td>\n",
       "      <td>-0.017323</td>\n",
       "      <td>-0.115212</td>\n",
       "      <td>1.504391</td>\n",
       "      <td>-0.118608</td>\n",
       "      <td>1.146256</td>\n",
       "      <td>...</td>\n",
       "      <td>-0.717101</td>\n",
       "      <td>-0.182404</td>\n",
       "      <td>-0.177068</td>\n",
       "      <td>0.174982</td>\n",
       "      <td>-1.244154</td>\n",
       "      <td>0.727558</td>\n",
       "      <td>0.396934</td>\n",
       "      <td>1.093772</td>\n",
       "      <td>0.763980</td>\n",
       "      <td>1</td>\n",
       "    </tr>\n",
       "    <tr>\n",
       "      <th>2</th>\n",
       "      <td>0.412023</td>\n",
       "      <td>0.550071</td>\n",
       "      <td>-0.697905</td>\n",
       "      <td>-0.585299</td>\n",
       "      <td>-0.254528</td>\n",
       "      <td>-0.017323</td>\n",
       "      <td>-0.115212</td>\n",
       "      <td>-0.289968</td>\n",
       "      <td>-0.118608</td>\n",
       "      <td>-0.341036</td>\n",
       "      <td>...</td>\n",
       "      <td>-0.717101</td>\n",
       "      <td>-0.182404</td>\n",
       "      <td>-0.177068</td>\n",
       "      <td>0.174982</td>\n",
       "      <td>-0.024634</td>\n",
       "      <td>-1.522505</td>\n",
       "      <td>0.396934</td>\n",
       "      <td>-1.552665</td>\n",
       "      <td>-0.349856</td>\n",
       "      <td>1</td>\n",
       "    </tr>\n",
       "    <tr>\n",
       "      <th>3</th>\n",
       "      <td>0.412023</td>\n",
       "      <td>0.550071</td>\n",
       "      <td>1.448999</td>\n",
       "      <td>-0.263353</td>\n",
       "      <td>-0.254528</td>\n",
       "      <td>-0.017323</td>\n",
       "      <td>-0.115212</td>\n",
       "      <td>-0.289968</td>\n",
       "      <td>-0.118608</td>\n",
       "      <td>-0.341036</td>\n",
       "      <td>...</td>\n",
       "      <td>-0.717101</td>\n",
       "      <td>-0.182404</td>\n",
       "      <td>-0.177068</td>\n",
       "      <td>0.174982</td>\n",
       "      <td>-1.244154</td>\n",
       "      <td>0.727558</td>\n",
       "      <td>0.396934</td>\n",
       "      <td>1.093772</td>\n",
       "      <td>-1.463692</td>\n",
       "      <td>1</td>\n",
       "    </tr>\n",
       "    <tr>\n",
       "      <th>4</th>\n",
       "      <td>0.412023</td>\n",
       "      <td>-0.781175</td>\n",
       "      <td>0.375547</td>\n",
       "      <td>-0.585299</td>\n",
       "      <td>-0.254528</td>\n",
       "      <td>-0.017323</td>\n",
       "      <td>-0.115212</td>\n",
       "      <td>-0.289968</td>\n",
       "      <td>-0.118608</td>\n",
       "      <td>-0.341036</td>\n",
       "      <td>...</td>\n",
       "      <td>1.394504</td>\n",
       "      <td>-0.182404</td>\n",
       "      <td>-0.177068</td>\n",
       "      <td>0.174982</td>\n",
       "      <td>1.194885</td>\n",
       "      <td>-1.522505</td>\n",
       "      <td>-1.522477</td>\n",
       "      <td>-1.552665</td>\n",
       "      <td>-1.463692</td>\n",
       "      <td>1</td>\n",
       "    </tr>\n",
       "    <tr>\n",
       "      <th>...</th>\n",
       "      <td>...</td>\n",
       "      <td>...</td>\n",
       "      <td>...</td>\n",
       "      <td>...</td>\n",
       "      <td>...</td>\n",
       "      <td>...</td>\n",
       "      <td>...</td>\n",
       "      <td>...</td>\n",
       "      <td>...</td>\n",
       "      <td>...</td>\n",
       "      <td>...</td>\n",
       "      <td>...</td>\n",
       "      <td>...</td>\n",
       "      <td>...</td>\n",
       "      <td>...</td>\n",
       "      <td>...</td>\n",
       "      <td>...</td>\n",
       "      <td>...</td>\n",
       "      <td>...</td>\n",
       "      <td>...</td>\n",
       "      <td>...</td>\n",
       "    </tr>\n",
       "    <tr>\n",
       "      <th>9995</th>\n",
       "      <td>0.412023</td>\n",
       "      <td>0.550071</td>\n",
       "      <td>-1.234631</td>\n",
       "      <td>-0.585299</td>\n",
       "      <td>-0.254528</td>\n",
       "      <td>-0.017323</td>\n",
       "      <td>-0.115212</td>\n",
       "      <td>-0.289968</td>\n",
       "      <td>-0.118608</td>\n",
       "      <td>1.146256</td>\n",
       "      <td>...</td>\n",
       "      <td>-0.717101</td>\n",
       "      <td>-0.182404</td>\n",
       "      <td>-0.177068</td>\n",
       "      <td>0.174982</td>\n",
       "      <td>1.194885</td>\n",
       "      <td>-1.522505</td>\n",
       "      <td>0.396934</td>\n",
       "      <td>-0.229446</td>\n",
       "      <td>0.763980</td>\n",
       "      <td>0</td>\n",
       "    </tr>\n",
       "    <tr>\n",
       "      <th>9996</th>\n",
       "      <td>-0.330495</td>\n",
       "      <td>0.550071</td>\n",
       "      <td>0.375547</td>\n",
       "      <td>-0.263353</td>\n",
       "      <td>-0.254528</td>\n",
       "      <td>-0.017323</td>\n",
       "      <td>-0.115212</td>\n",
       "      <td>-0.289968</td>\n",
       "      <td>-0.118608</td>\n",
       "      <td>-0.341036</td>\n",
       "      <td>...</td>\n",
       "      <td>1.394504</td>\n",
       "      <td>-0.182404</td>\n",
       "      <td>-0.177068</td>\n",
       "      <td>0.174982</td>\n",
       "      <td>-0.024634</td>\n",
       "      <td>-0.397474</td>\n",
       "      <td>0.396934</td>\n",
       "      <td>-0.229446</td>\n",
       "      <td>0.763980</td>\n",
       "      <td>0</td>\n",
       "    </tr>\n",
       "    <tr>\n",
       "      <th>9997</th>\n",
       "      <td>-0.330495</td>\n",
       "      <td>0.550071</td>\n",
       "      <td>0.375547</td>\n",
       "      <td>-0.585299</td>\n",
       "      <td>-0.254528</td>\n",
       "      <td>-0.017323</td>\n",
       "      <td>-0.115212</td>\n",
       "      <td>-0.289968</td>\n",
       "      <td>-0.118608</td>\n",
       "      <td>-0.341036</td>\n",
       "      <td>...</td>\n",
       "      <td>-0.717101</td>\n",
       "      <td>-0.182404</td>\n",
       "      <td>-0.177068</td>\n",
       "      <td>0.174982</td>\n",
       "      <td>-0.024634</td>\n",
       "      <td>0.727558</td>\n",
       "      <td>0.396934</td>\n",
       "      <td>-0.229446</td>\n",
       "      <td>0.763980</td>\n",
       "      <td>0</td>\n",
       "    </tr>\n",
       "    <tr>\n",
       "      <th>9998</th>\n",
       "      <td>0.412023</td>\n",
       "      <td>0.550071</td>\n",
       "      <td>-1.234631</td>\n",
       "      <td>-0.585299</td>\n",
       "      <td>-0.254528</td>\n",
       "      <td>-0.017323</td>\n",
       "      <td>-0.115212</td>\n",
       "      <td>-0.289968</td>\n",
       "      <td>-0.118608</td>\n",
       "      <td>0.402610</td>\n",
       "      <td>...</td>\n",
       "      <td>1.394504</td>\n",
       "      <td>-0.182404</td>\n",
       "      <td>-0.177068</td>\n",
       "      <td>0.174982</td>\n",
       "      <td>1.194885</td>\n",
       "      <td>-0.397474</td>\n",
       "      <td>0.396934</td>\n",
       "      <td>-0.229446</td>\n",
       "      <td>0.763980</td>\n",
       "      <td>0</td>\n",
       "    </tr>\n",
       "    <tr>\n",
       "      <th>9999</th>\n",
       "      <td>0.412023</td>\n",
       "      <td>0.550071</td>\n",
       "      <td>-0.697905</td>\n",
       "      <td>0.380541</td>\n",
       "      <td>-0.254528</td>\n",
       "      <td>-0.017323</td>\n",
       "      <td>-0.115212</td>\n",
       "      <td>-0.289968</td>\n",
       "      <td>-0.118608</td>\n",
       "      <td>-0.341036</td>\n",
       "      <td>...</td>\n",
       "      <td>-0.717101</td>\n",
       "      <td>-0.182404</td>\n",
       "      <td>-0.177068</td>\n",
       "      <td>0.174982</td>\n",
       "      <td>1.194885</td>\n",
       "      <td>0.727558</td>\n",
       "      <td>0.396934</td>\n",
       "      <td>1.093772</td>\n",
       "      <td>0.763980</td>\n",
       "      <td>0</td>\n",
       "    </tr>\n",
       "  </tbody>\n",
       "</table>\n",
       "<p>10000 rows × 45 columns</p>\n",
       "</div>"
      ],
      "text/plain": [
       "       NumDots  SubdomainLevel  PathLevel   NumDash  NumDashInHostname  \\\n",
       "0     0.412023        0.550071   0.912273 -0.585299          -0.254528   \n",
       "1     0.412023        0.550071  -0.161179 -0.585299          -0.254528   \n",
       "2     0.412023        0.550071  -0.697905 -0.585299          -0.254528   \n",
       "3     0.412023        0.550071   1.448999 -0.263353          -0.254528   \n",
       "4     0.412023       -0.781175   0.375547 -0.585299          -0.254528   \n",
       "...        ...             ...        ...       ...                ...   \n",
       "9995  0.412023        0.550071  -1.234631 -0.585299          -0.254528   \n",
       "9996 -0.330495        0.550071   0.375547 -0.263353          -0.254528   \n",
       "9997 -0.330495        0.550071   0.375547 -0.585299          -0.254528   \n",
       "9998  0.412023        0.550071  -1.234631 -0.585299          -0.254528   \n",
       "9999  0.412023        0.550071  -0.697905  0.380541          -0.254528   \n",
       "\n",
       "      AtSymbol  TildeSymbol  NumUnderscore  NumPercent  NumQueryComponents  \\\n",
       "0    -0.017323    -0.115212      -0.289968   -0.118608           -0.341036   \n",
       "1    -0.017323    -0.115212       1.504391   -0.118608            1.146256   \n",
       "2    -0.017323    -0.115212      -0.289968   -0.118608           -0.341036   \n",
       "3    -0.017323    -0.115212      -0.289968   -0.118608           -0.341036   \n",
       "4    -0.017323    -0.115212      -0.289968   -0.118608           -0.341036   \n",
       "...        ...          ...            ...         ...                 ...   \n",
       "9995 -0.017323    -0.115212      -0.289968   -0.118608            1.146256   \n",
       "9996 -0.017323    -0.115212      -0.289968   -0.118608           -0.341036   \n",
       "9997 -0.017323    -0.115212      -0.289968   -0.118608           -0.341036   \n",
       "9998 -0.017323    -0.115212      -0.289968   -0.118608            0.402610   \n",
       "9999 -0.017323    -0.115212      -0.289968   -0.118608           -0.341036   \n",
       "\n",
       "      ...  IframeOrFrame  MissingTitle  ImagesOnlyInForm  SubdomainLevelRT  \\\n",
       "0     ...      -0.717101     -0.182404          5.647543          0.174982   \n",
       "1     ...      -0.717101     -0.182404         -0.177068          0.174982   \n",
       "2     ...      -0.717101     -0.182404         -0.177068          0.174982   \n",
       "3     ...      -0.717101     -0.182404         -0.177068          0.174982   \n",
       "4     ...       1.394504     -0.182404         -0.177068          0.174982   \n",
       "...   ...            ...           ...               ...               ...   \n",
       "9995  ...      -0.717101     -0.182404         -0.177068          0.174982   \n",
       "9996  ...       1.394504     -0.182404         -0.177068          0.174982   \n",
       "9997  ...      -0.717101     -0.182404         -0.177068          0.174982   \n",
       "9998  ...       1.394504     -0.182404         -0.177068          0.174982   \n",
       "9999  ...      -0.717101     -0.182404         -0.177068          0.174982   \n",
       "\n",
       "      UrlLengthRT  PctExtResourceUrlsRT  AbnormalExtFormActionR  \\\n",
       "0       -0.024634              0.727558                0.396934   \n",
       "1       -1.244154              0.727558                0.396934   \n",
       "2       -0.024634             -1.522505                0.396934   \n",
       "3       -1.244154              0.727558                0.396934   \n",
       "4        1.194885             -1.522505               -1.522477   \n",
       "...           ...                   ...                     ...   \n",
       "9995     1.194885             -1.522505                0.396934   \n",
       "9996    -0.024634             -0.397474                0.396934   \n",
       "9997    -0.024634              0.727558                0.396934   \n",
       "9998     1.194885             -0.397474                0.396934   \n",
       "9999     1.194885              0.727558                0.396934   \n",
       "\n",
       "      ExtMetaScriptLinkRT  PctExtNullSelfRedirectHyperlinksRT  CLASS_LABEL  \n",
       "0               -1.552665                            0.763980            1  \n",
       "1                1.093772                            0.763980            1  \n",
       "2               -1.552665                           -0.349856            1  \n",
       "3                1.093772                           -1.463692            1  \n",
       "4               -1.552665                           -1.463692            1  \n",
       "...                   ...                                 ...          ...  \n",
       "9995            -0.229446                            0.763980            0  \n",
       "9996            -0.229446                            0.763980            0  \n",
       "9997            -0.229446                            0.763980            0  \n",
       "9998            -0.229446                            0.763980            0  \n",
       "9999             1.093772                            0.763980            0  \n",
       "\n",
       "[10000 rows x 45 columns]"
      ]
     },
     "execution_count": 2,
     "metadata": {},
     "output_type": "execute_result"
    }
   ],
   "source": [
    "import pandas as pd\n",
    "\n",
    "df = pd.read_csv('cleaned_phishing.csv')\n",
    "df"
   ]
  },
  {
   "cell_type": "markdown",
   "id": "8ad4c68a",
   "metadata": {},
   "source": [
    "# Modelling"
   ]
  },
  {
   "cell_type": "markdown",
   "id": "3765ec5a",
   "metadata": {},
   "source": [
    "# Splitting data into Train and Test"
   ]
  },
  {
   "cell_type": "code",
   "execution_count": 3,
   "id": "dd0f95a7",
   "metadata": {},
   "outputs": [],
   "source": [
    "from sklearn.model_selection import train_test_split\n",
    "\n",
    "X = df.drop(columns=['CLASS_LABEL'])\n",
    "y = df['CLASS_LABEL']\n",
    "\n",
    "X_train, X_test, y_train, y_test = train_test_split(X, y, test_size=0.3, random_state=42)"
   ]
  },
  {
   "cell_type": "markdown",
   "id": "2b43eac7",
   "metadata": {},
   "source": [
    "# Random Forest - SKLearn"
   ]
  },
  {
   "cell_type": "code",
   "execution_count": 4,
   "id": "7b91e0a7",
   "metadata": {},
   "outputs": [
    {
     "name": "stdout",
     "output_type": "stream",
     "text": [
      "Best Parameters: {'max_depth': 20, 'min_samples_leaf': 1, 'min_samples_split': 2, 'n_estimators': 300}\n"
     ]
    }
   ],
   "source": [
    "from sklearn.model_selection import GridSearchCV\n",
    "from sklearn.ensemble import RandomForestClassifier\n",
    "from sklearn.metrics import accuracy_score, precision_score, recall_score, f1_score, classification_report, confusion_matrix\n",
    "\n",
    "parameters_rf = {\n",
    "    'n_estimators': [100, 200, 300],\n",
    "    'max_depth': [None, 10, 20],\n",
    "    'min_samples_split': [2, 5, 10],\n",
    "    'min_samples_leaf': [1, 2, 4],\n",
    "}\n",
    "\n",
    "rf = RandomForestClassifier(random_state=42)\n",
    "grid_search = GridSearchCV(estimator=rf, param_grid=parameters_rf, cv=3, scoring='accuracy')\n",
    "grid_search.fit(X_train, y_train)\n",
    "\n",
    "best_params = grid_search.best_params_\n",
    "\n",
    "print(\"Best Parameters:\", best_params)"
   ]
  },
  {
   "cell_type": "code",
   "execution_count": 5,
   "id": "936dfdbe",
   "metadata": {},
   "outputs": [],
   "source": [
    "best_rf = RandomForestClassifier(**best_params, random_state=42)\n",
    "best_rf.fit(X_train, y_train)\n",
    "\n",
    "y_pred_rf = best_rf.predict(X_test)"
   ]
  },
  {
   "cell_type": "code",
   "execution_count": 6,
   "id": "03e54f6f",
   "metadata": {},
   "outputs": [
    {
     "name": "stdout",
     "output_type": "stream",
     "text": [
      "Accuracy (Random Forest): 0.9833333333333333\n",
      "F1 Score (Random Forest): 0.9833343115845846\n"
     ]
    }
   ],
   "source": [
    "accuracy_rf = accuracy_score(y_test, y_pred_rf)\n",
    "f1_rf = f1_score(y_test, y_pred_rf, average='weighted')\n",
    "\n",
    "print(\"Accuracy (Random Forest):\", accuracy_rf)\n",
    "print(\"F1 Score (Random Forest):\", f1_rf)"
   ]
  },
  {
   "cell_type": "code",
   "execution_count": 7,
   "id": "4f5ba0b9",
   "metadata": {},
   "outputs": [
    {
     "name": "stdout",
     "output_type": "stream",
     "text": [
      "Classification Report (Random Forest):\n",
      "               precision    recall  f1-score   support\n",
      "\n",
      "           0       0.98      0.99      0.98      1463\n",
      "           1       0.99      0.98      0.98      1537\n",
      "\n",
      "    accuracy                           0.98      3000\n",
      "   macro avg       0.98      0.98      0.98      3000\n",
      "weighted avg       0.98      0.98      0.98      3000\n",
      "\n"
     ]
    }
   ],
   "source": [
    "classif_report_rf = classification_report(y_test, y_pred_rf)\n",
    "print('Classification Report (Random Forest):\\n', classif_report_rf)"
   ]
  },
  {
   "cell_type": "code",
   "execution_count": 8,
   "id": "fb2280e3",
   "metadata": {},
   "outputs": [
    {
     "data": {
      "image/png": "[encoded data removed]",
      "text/plain": [
       "<Figure size 800x600 with 2 Axes>"
      ]
     },
     "metadata": {},
     "output_type": "display_data"
    }
   ],
   "source": [
    "import matplotlib.pyplot as plt\n",
    "import seaborn as sns\n",
    "\n",
    "conf_matrix_rf = confusion_matrix(y_test, y_pred_rf)\n",
    "\n",
    "plt.figure(figsize=(8,6))\n",
    "sns.heatmap(conf_matrix_rf, cmap='Blues',fmt='.2f',annot=True)\n",
    "plt.title('Confusion Matrix (Random Forest)')\n",
    "plt.show()"
   ]
  },
  {
   "cell_type": "markdown",
   "id": "5cf67e3e",
   "metadata": {},
   "source": [
    "# XGBoost"
   ]
  },
  {
   "cell_type": "code",
   "execution_count": 11,
   "id": "6dcc6c81",
   "metadata": {},
   "outputs": [
    {
     "name": "stdout",
     "output_type": "stream",
     "text": [
      "Best Parameters: {'learning_rate': 0.3, 'max_depth': 7, 'n_estimators': 300}\n"
     ]
    }
   ],
   "source": [
    "import xgboost as xgb\n",
    "\n",
    "parameters_xgb = {\n",
    "    'n_estimators': [100, 200, 300],\n",
    "    'max_depth': [3, 5, 7],\n",
    "    'learning_rate': [0.01, 0.1, 0.3],\n",
    "}\n",
    "\n",
    "model_xgb = xgb.XGBClassifier(random_state=42)\n",
    "\n",
    "grid_search = GridSearchCV(estimator=model_xgb, param_grid=parameters_xgb, cv=5, scoring='accuracy')\n",
    "grid_search.fit(X_train, y_train)\n",
    "\n",
    "best_params = grid_search.best_params_\n",
    "print(\"Best Parameters:\", best_params)"
   ]
  },
  {
   "cell_type": "code",
   "execution_count": 12,
   "id": "ce94484a",
   "metadata": {},
   "outputs": [
    {
     "name": "stdout",
     "output_type": "stream",
     "text": [
      "Accuracy (XGBoost): 0.9836666666666667\n",
      "F1 Score (XGBoost): 0.9836670534388577\n"
     ]
    }
   ],
   "source": [
    "best_xgb = xgb.XGBClassifier(**best_params, random_state=42)\n",
    "best_xgb.fit(X_train, y_train)\n",
    "\n",
    "y_pred_xgb = best_xgb.predict(X_test)\n",
    "\n",
    "accuracy_xgb = accuracy_score(y_test, y_pred_xgb)\n",
    "f1_xgb = f1_score(y_test, y_pred_xgb, average='weighted')\n",
    "\n",
    "print(\"Accuracy (XGBoost):\", accuracy_xgb)\n",
    "print(\"F1 Score (XGBoost):\", f1_xgb)"
   ]
  },
  {
   "cell_type": "code",
   "execution_count": 21,
   "id": "8accd34e",
   "metadata": {},
   "outputs": [
    {
     "name": "stdout",
     "output_type": "stream",
     "text": [
      "Classification Report (XGBoost):\n",
      "               precision    recall  f1-score   support\n",
      "\n",
      "           0       0.98      0.98      0.98      1463\n",
      "           1       0.99      0.98      0.98      1537\n",
      "\n",
      "    accuracy                           0.98      3000\n",
      "   macro avg       0.98      0.98      0.98      3000\n",
      "weighted avg       0.98      0.98      0.98      3000\n",
      "\n"
     ]
    }
   ],
   "source": [
    "classif_report_xgb = classification_report(y_test, y_pred_xgb)\n",
    "print('Classification Report (XGBoost):\\n', classif_report_xgb)"
   ]
  },
  {
   "cell_type": "code",
   "execution_count": 14,
   "id": "3dec1e08",
   "metadata": {},
   "outputs": [
    {
     "data": {
      "image/png": "[encoded data removed]",
      "text/plain": [
       "<Figure size 800x600 with 2 Axes>"
      ]
     },
     "metadata": {},
     "output_type": "display_data"
    }
   ],
   "source": [
    "conf_matrix_xgb = confusion_matrix(y_test, y_pred_xgb)\n",
    "\n",
    "plt.figure(figsize=(8,6))\n",
    "sns.heatmap(conf_matrix_xgb, cmap='Blues',fmt='.2f',annot=True)\n",
    "plt.title('Confusion Matrix (XGBoost)')\n",
    "plt.show()"
   ]
  },
  {
   "cell_type": "markdown",
   "id": "22505c94",
   "metadata": {},
   "source": [
    "# Support Vector Machine (SVM)"
   ]
  },
  {
   "cell_type": "code",
   "execution_count": 15,
   "id": "599e086b",
   "metadata": {},
   "outputs": [
    {
     "name": "stdout",
     "output_type": "stream",
     "text": [
      "Accuracy (SVM): 0.9596666666666667\n",
      "F1 Score (SVM): 0.9596577171367213\n"
     ]
    }
   ],
   "source": [
    "from sklearn.svm import SVC\n",
    "\n",
    "model_svm = SVC(random_state=42)\n",
    "model_svm.fit(X_train, y_train)\n",
    "\n",
    "y_pred_svm = model_svm.predict(X_test)\n",
    "\n",
    "accuracy_svm = accuracy_score(y_test, y_pred_svm)\n",
    "f1_svm = f1_score(y_test, y_pred_svm, average='weighted')\n",
    "\n",
    "print(\"Accuracy (SVM):\", accuracy_svm)\n",
    "print(\"F1 Score (SVM):\", f1_svm)"
   ]
  },
  {
   "cell_type": "code",
   "execution_count": 16,
   "id": "464660e7",
   "metadata": {},
   "outputs": [
    {
     "name": "stdout",
     "output_type": "stream",
     "text": [
      "Classification Report (SVM):\n",
      "               precision    recall  f1-score   support\n",
      "\n",
      "           0       0.97      0.95      0.96      1463\n",
      "           1       0.95      0.97      0.96      1537\n",
      "\n",
      "    accuracy                           0.96      3000\n",
      "   macro avg       0.96      0.96      0.96      3000\n",
      "weighted avg       0.96      0.96      0.96      3000\n",
      "\n"
     ]
    }
   ],
   "source": [
    "print('Classification Report (SVM):\\n', classification_report(y_test, y_pred_svm))"
   ]
  },
  {
   "cell_type": "code",
   "execution_count": 17,
   "id": "613015c9",
   "metadata": {},
   "outputs": [
    {
     "data": {
      "image/png": "[encoded data removed]",
      "text/plain": [
       "<Figure size 800x600 with 2 Axes>"
      ]
     },
     "metadata": {},
     "output_type": "display_data"
    }
   ],
   "source": [
    "conf_matrix_svm = confusion_matrix(y_test, y_pred_svm)\n",
    "\n",
    "plt.figure(figsize=(8,6))\n",
    "sns.heatmap(conf_matrix_svm, cmap='Blues',fmt='.2f',annot=True)\n",
    "plt.title('Confusion Matrix (SVM)')\n",
    "plt.show()"
   ]
  },
  {
   "cell_type": "markdown",
   "id": "d6b694b5",
   "metadata": {},
   "source": [
    "# SVM - LIBSVM"
   ]
  },
  {
   "cell_type": "code",
   "execution_count": 18,
   "id": "83797b3f",
   "metadata": {},
   "outputs": [
    {
     "name": "stderr",
     "output_type": "stream",
     "text": [
      "C:\\Users\\Lenovo\\anaconda3\\Lib\\site-packages\\libsvm\\svm.py:148: NumbaDeprecationWarning: \u001b[1mThe 'nopython' keyword argument was not supplied to the 'numba.jit' decorator. The implicit default value for this argument is currently False, but it will be changed to True in Numba 0.59.0. See https://numba.readthedocs.io/en/stable/reference/deprecation.html#deprecation-of-object-mode-fall-back-behaviour-when-using-jit for details.\u001b[0m\n",
      "  @jit\n"
     ]
    },
    {
     "name": "stdout",
     "output_type": "stream",
     "text": [
      "Accuracy = 93.4667% (2804/3000) (classification)\n",
      "Accuracy (LIBSVM): 0.9346666666666666\n",
      "F1 Score (LIBSVM): 0.9346439905260959\n"
     ]
    }
   ],
   "source": [
    "from libsvm.svmutil import svm_train, svm_predict\n",
    "\n",
    "X_libsvm = X_train.values.tolist()\n",
    "X_test_libsvm = X_test.values.tolist()\n",
    "y_libsvm = y_train.tolist()\n",
    "y_test_libsvm = y_test.tolist()\n",
    "\n",
    "model_libsvm = svm_train(y_libsvm, X_libsvm, '-s 0 -t 0 -c 1')\n",
    "\n",
    "svm_labels, _, _ = svm_predict(y_test_libsvm, X_test_libsvm, model_libsvm)\n",
    "\n",
    "accuracy_libsvm = accuracy_score(y_test_libsvm, svm_labels)\n",
    "f1_libsvm = f1_score(y_test_libsvm, svm_labels, average='weighted')\n",
    "\n",
    "print(\"Accuracy (LIBSVM):\", accuracy_libsvm)\n",
    "print(\"F1 Score (LIBSVM):\", f1_libsvm)"
   ]
  },
  {
   "cell_type": "code",
   "execution_count": 19,
   "id": "d3e546b8",
   "metadata": {},
   "outputs": [
    {
     "name": "stdout",
     "output_type": "stream",
     "text": [
      "Classification Report (SVM):\n",
      "               precision    recall  f1-score   support\n",
      "\n",
      "           0       0.94      0.92      0.93      1463\n",
      "           1       0.93      0.95      0.94      1537\n",
      "\n",
      "    accuracy                           0.93      3000\n",
      "   macro avg       0.93      0.93      0.93      3000\n",
      "weighted avg       0.93      0.93      0.93      3000\n",
      "\n"
     ]
    }
   ],
   "source": [
    "print('Classification Report (LIBSVM):\\n', classification_report(y_test_libsvm, svm_labels))"
   ]
  },
  {
   "cell_type": "code",
   "execution_count": 20,
   "id": "23754690",
   "metadata": {},
   "outputs": [
    {
     "data": {
      "image/png": "[encoded data removed]",
      "text/plain": [
       "<Figure size 800x600 with 2 Axes>"
      ]
     },
     "metadata": {},
     "output_type": "display_data"
    }
   ],
   "source": [
    "conf_matrix_libsvm = confusion_matrix(y_test_libsvm, svm_labels)\n",
    "\n",
    "plt.figure(figsize=(8,6))\n",
    "sns.heatmap(conf_matrix_libsvm, cmap='Blues',fmt='.2f',annot=True)\n",
    "plt.title('Confusion Matrix (LIBSVM)')\n",
    "plt.show()"
   ]
  },
  {
   "cell_type": "code",
   "execution_count": null,
   "id": "0737e2ec",
   "metadata": {},
   "outputs": [],
   "source": []
  }
 ],
 "metadata": {
  "kernelspec": {
   "display_name": "Python 3 (ipykernel)",
   "language": "python",
   "name": "python3"
  },
  "language_info": {
   "codemirror_mode": {
    "name": "ipython",
    "version": 3
   },
   "file_extension": ".py",
   "mimetype": "text/x-python",
   "name": "python",
   "nbconvert_exporter": "python",
   "pygments_lexer": "ipython3",
   "version": "3.11.5"
  }
 },
 "nbformat": 4,
 "nbformat_minor": 5
}
